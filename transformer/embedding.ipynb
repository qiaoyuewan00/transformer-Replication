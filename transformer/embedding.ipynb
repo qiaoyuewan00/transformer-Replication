{
 "cells": [
  {
   "cell_type": "code",
   "execution_count": null,
   "id": "3f223965",
   "metadata": {},
   "outputs": [
    {
     "name": "stdout",
     "output_type": "stream",
     "text": [
      "tensor([[-2.7525,  0.3228,  2.4707, -0.1282, -0.3692],\n",
      "        [ 0.0521,  0.2388, -1.0975, -1.2147, -1.3265],\n",
      "        [-1.8163,  0.3786, -0.6455, -1.0160,  1.5624],\n",
      "        [ 0.3190,  0.3162, -0.2334,  0.4650, -0.8264],\n",
      "        [ 0.8950, -0.0773, -0.2933,  0.4066,  0.1556],\n",
      "        [-1.9907, -0.9112, -0.2839,  0.6151,  1.6449],\n",
      "        [-0.1745,  0.7427, -0.3738, -0.0030, -0.1040],\n",
      "        [ 0.8767,  0.8783, -0.7342, -0.7895, -0.3777],\n",
      "        [ 1.2774, -1.1189,  0.8220,  0.3615, -0.4933],\n",
      "        [-0.0589, -0.1008,  0.3135,  0.1558, -0.0544]],\n",
      "       grad_fn=<SliceBackward0>)\n",
      "torch.Size([3000, 5])\n",
      "tensor([[-2.7525,  0.3228,  2.4707, -0.1282, -0.3692],\n",
      "        [ 0.3190,  0.3162, -0.2334,  0.4650, -0.8264],\n",
      "        [-1.9907, -0.9112, -0.2839,  0.6151,  1.6449]],\n",
      "       grad_fn=<EmbeddingBackward0>)\n"
     ]
    }
   ],
   "source": [
    "import torch\n",
    "from torch import nn\n",
    "a = nn.Embedding(3000,5)  # 创建3000个词，每个词的维度是5\n",
    "print(a.weight[0:10])\n",
    "print(a.weight.shape)\n",
    "\n",
    "inputs = torch.tensor([0,3,5])\n",
    "outputs = a(inputs)\n",
    "print(outputs)\n",
    "\n"
   ]
  }
 ],
 "metadata": {
  "kernelspec": {
   "display_name": "pytorch-cpu",
   "language": "python",
   "name": "python3"
  },
  "language_info": {
   "codemirror_mode": {
    "name": "ipython",
    "version": 3
   },
   "file_extension": ".py",
   "mimetype": "text/x-python",
   "name": "python",
   "nbconvert_exporter": "python",
   "pygments_lexer": "ipython3",
   "version": "3.10.5"
  }
 },
 "nbformat": 4,
 "nbformat_minor": 5
}
